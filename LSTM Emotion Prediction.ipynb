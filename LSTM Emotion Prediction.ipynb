{
 "cells": [
  {
   "cell_type": "code",
   "execution_count": 4,
   "id": "4191d14a",
   "metadata": {},
   "outputs": [],
   "source": [
    "import numpy as np\n",
    "import os\n",
    "from json_tricks import dump, load\n",
    "\n",
    "from pydub import AudioSegment, effects\n",
    "\n",
    "import librosa\n",
    "import tensorflow as tf\n",
    "import keras\n",
    "import sklearn"
   ]
  },
  {
   "cell_type": "code",
   "execution_count": 5,
   "id": "d49cedbf",
   "metadata": {},
   "outputs": [],
   "source": [
    "# Emotion kind validation function for TESS database, due to emotions written within the file names.\n",
    "def find_emotion_T(name): \n",
    "        if('neutral' in name): return \"01\"\n",
    "        elif('happy' in name): return \"03\"\n",
    "        elif('sad' in name): return \"04\"\n",
    "        elif('angry' in name): return \"05\"\n",
    "        elif('fear' in name): return \"06\"\n",
    "        elif('disgust' in name): return \"07\"\n",
    "        elif('ps' in name): return \"08\"\n",
    "        else: return \"-1\"\n",
    "        \n",
    "        \n",
    "# 'emotions' list fix for classification purposes:\n",
    "#     Classification values start from 0, Thus an 'n = n-1' operation has been executed for both RAVDESS and TESS databases:\n",
    "def emotionfix(e_num):\n",
    "    if e_num == \"01\":   return 0 # neutral\n",
    "    elif e_num == \"02\": return 1 # calm\n",
    "    elif e_num == \"03\": return 2 # happy\n",
    "    elif e_num == \"04\": return 3 # sad\n",
    "    elif e_num == \"05\": return 4 # angry\n",
    "    elif e_num == \"06\": return 5 # fear\n",
    "    elif e_num == \"07\": return 6 # disgust\n",
    "    else:               return 7 # suprised"
   ]
  },
  {
   "cell_type": "code",
   "execution_count": 6,
   "id": "a9a442b7",
   "metadata": {},
   "outputs": [
    {
     "name": "stdout",
     "output_type": "stream",
     "text": [
      "Maximum sample length: 204288\n"
     ]
    }
   ],
   "source": [
    "sample_lengths = []\n",
    "folder_path = './dataset'\n",
    "\n",
    "for subdir, dirs, files in os.walk(folder_path):\n",
    "  for file in files: \n",
    "    x, sr = librosa.load(path = os.path.join(subdir,file), sr = None)\n",
    "    xt, index = librosa.effects.trim(x, top_db=30)\n",
    "     \n",
    "    sample_lengths.append(len(xt))\n",
    "\n",
    "print('Maximum sample length:', np.max(sample_lengths))        "
   ]
  },
  {
   "cell_type": "code",
   "execution_count": 7,
   "id": "5ca56854",
   "metadata": {},
   "outputs": [
    {
     "name": "stdout",
     "output_type": "stream",
     "text": [
      "Running time: 7.9567 minutes\n"
     ]
    }
   ],
   "source": [
    "import time\n",
    "import noisereduce as nr\n",
    "tic = time.perf_counter()\n",
    "\n",
    "# Initialize data lists\n",
    "rms = []\n",
    "zcr = []\n",
    "mfcc = []\n",
    "emotions = []\n",
    "fileName = []\n",
    "\n",
    "# Initialize variables\n",
    "total_length = 204288 # desired frame length for all of the audio samples.\n",
    "frame_length = 2048\n",
    "hop_length = 512\n",
    "\n",
    "folder_path = './dataset' \n",
    "\n",
    "for subdir, dirs, files in os.walk(folder_path):\n",
    "  for file in files: \n",
    "\n",
    "    # Fetch the sample rate.\n",
    "      _, sr = librosa.load(path = os.path.join(subdir,file), sr = None) # sr (the sample rate) is used for librosa's MFCCs. '_' is irrelevant.\n",
    "        \n",
    "# Load the audio file.\n",
    "      rawsound = AudioSegment.from_file(os.path.join(subdir,file)) \n",
    "    # Normalize the audio to +5.0 dBFS.\n",
    "      normalizedsound = effects.normalize(rawsound, headroom = 5.0) \n",
    "    # Transform the normalized audio to np.array of samples.\n",
    "      normal_x = np.array(normalizedsound.get_array_of_samples(), dtype = 'float32')\n",
    "    # Trim silence from the beginning and the end.\n",
    "      xt, index = librosa.effects.trim(normal_x, top_db=30)\n",
    "      #print(file,\"\\t\", len(xt), \"\\t\", rawsound.dBFS, \"\\t\", normalizedsound.dBFS) #--QA purposes if needed-- \n",
    "    # Pad for duration equalization.\n",
    "      padded_x = np.pad(xt, (0, total_length-len(xt)), 'constant')\n",
    "    # Noise reduction.\n",
    "      final_x = nr.reduce_noise(y=padded_x,\n",
    "                          sr=sr)\n",
    "       \n",
    "   # Features extraction \n",
    "      f1 = librosa.feature.rms(y=final_x, frame_length=frame_length, hop_length=hop_length) # Energy - Root Mean Square   \n",
    "      f2 = librosa.feature.zero_crossing_rate(y=final_x , frame_length=frame_length, hop_length=hop_length, center=True) # ZCR      \n",
    "      f3 = librosa.feature.mfcc(y=final_x, sr=sr, n_mfcc=13, hop_length = hop_length) # MFCC\n",
    "      \n",
    "   # Emotion extraction from the different databases\n",
    "      if (find_emotion_T(file) != \"-1\"): #TESS database validation\n",
    "            name = find_emotion_T(file)\n",
    "      else:                              #RAVDESS database validation\n",
    "            name = file[6:8]                      \n",
    "\n",
    "   # Filling the data lists  \n",
    "      rms.append(f1)\n",
    "      zcr.append(f2)\n",
    "      mfcc.append(f3)\n",
    "      fileName.append(file)\n",
    "      #print(file, emotionfix(name))\n",
    "      emotions.append(emotionfix(name)) \n",
    "\n",
    "toc = time.perf_counter()\n",
    "print(f\"Running time: {(toc - tic)/60:0.4f} minutes\")"
   ]
  },
  {
   "cell_type": "code",
   "execution_count": 8,
   "id": "d42f3328",
   "metadata": {},
   "outputs": [
    {
     "name": "stdout",
     "output_type": "stream",
     "text": [
      "ZCR shape: (4237, 400, 1)\n",
      "RMS shape: (4237, 400, 1)\n",
      "MFCCs shape: (4237, 400, 13)\n"
     ]
    }
   ],
   "source": [
    "\n",
    "f_rms = np.asarray(rms).astype('float32')\n",
    "f_rms = np.swapaxes(f_rms,1,2)\n",
    "f_zcr = np.asarray(zcr).astype('float32')\n",
    "f_zcr = np.swapaxes(f_zcr,1,2)\n",
    "f_mfccs = np.asarray(mfcc).astype('float32')\n",
    "f_mfccs = np.swapaxes(f_mfccs,1,2)\n",
    "\n",
    "print('ZCR shape:',f_zcr.shape)\n",
    "print('RMS shape:',f_rms.shape)\n",
    "print('MFCCs shape:',f_mfccs.shape)"
   ]
  },
  {
   "cell_type": "code",
   "execution_count": 9,
   "id": "99af3fbb",
   "metadata": {},
   "outputs": [],
   "source": [
    "# Concatenating all features to 'X' variable.\n",
    "X = np.concatenate((f_zcr, f_rms, f_mfccs), axis=2)\n",
    "\n",
    "# Preparing 'Y' as a 2D shaped variable.\n",
    "Y = np.asarray(emotions).astype('int8')\n",
    "Y = np.expand_dims(Y, axis=1)"
   ]
  },
  {
   "cell_type": "code",
   "execution_count": 10,
   "id": "919d29c3",
   "metadata": {},
   "outputs": [],
   "source": [
    "# Split to train, validation, and test sets.\n",
    "from sklearn.model_selection import train_test_split\n",
    "x_train, x_tosplit, y_train, y_tosplit = train_test_split(X, Y, test_size = 0.224, random_state = 1,shuffle=True)\n",
    "x_val, x_test, y_val, y_test = train_test_split(x_tosplit, y_tosplit, test_size = 0.304, random_state = 1,shuffle=True)\n",
    "\n",
    "#'One-hot' vectors for Y: emotion classification\n",
    "y_train_class = tf.keras.utils.to_categorical(y_train, 8, dtype = 'int8')\n",
    "y_val_class = tf.keras.utils.to_categorical(y_val, 8, dtype = 'int8')"
   ]
  },
  {
   "cell_type": "code",
   "execution_count": 11,
   "id": "7fb0f882",
   "metadata": {},
   "outputs": [
    {
     "name": "stdout",
     "output_type": "stream",
     "text": [
      "(3287, 400, 15)\n",
      "(661, 400, 15)\n",
      "(289, 400, 15)\n",
      "(4237, 1)\n"
     ]
    }
   ],
   "source": [
    "# x_train, x_val, and x_test shape check.\n",
    "print(np.shape(x_train))\n",
    "print(np.shape(x_val))\n",
    "print(np.shape(x_test))\n",
    "print(np.shape(Y))"
   ]
  },
  {
   "cell_type": "code",
   "execution_count": 1,
   "id": "aa9726a5",
   "metadata": {},
   "outputs": [
    {
     "name": "stderr",
     "output_type": "stream",
     "text": [
      "C:\\Users\\chongkle.KEYSIGHT\\Anaconda3\\envs\\deep-learning\\lib\\site-packages\\pydub\\utils.py:170: RuntimeWarning: Couldn't find ffmpeg or avconv - defaulting to ffmpeg, but may not work\n",
      "  warn(\"Couldn't find ffmpeg or avconv - defaulting to ffmpeg, but may not work\", RuntimeWarning)\n"
     ]
    }
   ],
   "source": [
    "import os\n",
    "from json_tricks import load\n",
    "\n",
    "import numpy as np\n",
    "\n",
    "import librosa\n",
    "from pydub import AudioSegment, effects\n",
    "import noisereduce as nr\n",
    "\n",
    "import tensorflow as tf\n",
    "import keras\n",
    "from tensorflow.keras.models import model_from_json\n",
    "from tensorflow.keras.models import load_model\n",
    "\n",
    "import matplotlib.pyplot as plt"
   ]
  },
  {
   "cell_type": "code",
   "execution_count": 2,
   "id": "f5173e0a",
   "metadata": {},
   "outputs": [
    {
     "name": "stdout",
     "output_type": "stream",
     "text": [
      "Model: \"sequential\"\n",
      "_________________________________________________________________\n",
      "Layer (type)                 Output Shape              Param #   \n",
      "=================================================================\n",
      "lstm (LSTM)                  (None, 400, 64)           20480     \n",
      "_________________________________________________________________\n",
      "dropout (Dropout)            (None, 400, 64)           0         \n",
      "_________________________________________________________________\n",
      "lstm_1 (LSTM)                (None, 64)                33024     \n",
      "_________________________________________________________________\n",
      "dropout_1 (Dropout)          (None, 64)                0         \n",
      "_________________________________________________________________\n",
      "dense (Dense)                (None, 8)                 520       \n",
      "=================================================================\n",
      "Total params: 54,024\n",
      "Trainable params: 54,024\n",
      "Non-trainable params: 0\n",
      "_________________________________________________________________\n",
      "None\n"
     ]
    }
   ],
   "source": [
    "saved_model_path  = f'./model.json'\n",
    "saved_weights_path = f'./model_weights.h5'\n",
    "#Reading the model from JSON file\n",
    "with open(saved_model_path, 'r') as json_file:\n",
    "    json_savedModel = json_file.read()\n",
    "    \n",
    "# Loading the model architecture, weights\n",
    "model = tf.keras.models.model_from_json(json_savedModel)\n",
    "model.load_weights(saved_weights_path)\n",
    "opt = tf.keras.optimizers.Adam(learning_rate=0.001)   \n",
    "# Compiling the model with similar parameters as the original model.\n",
    "model.compile(loss='categorical_crossentropy', \n",
    "                optimizer=opt, \n",
    "                metrics=['categorical_accuracy'])\n",
    "\n",
    "print(model.summary())"
   ]
  },
  {
   "cell_type": "code",
   "execution_count": 12,
   "id": "7fef6139",
   "metadata": {},
   "outputs": [
    {
     "name": "stdout",
     "output_type": "stream",
     "text": [
      "Evaluate data size :  661\n",
      "21/21 - 1s - loss: 0.4962 - categorical_accuracy: 0.8790\n",
      "Accuracy 87.897127866745%\n"
     ]
    }
   ],
   "source": [
    "# Validation score\n",
    "print(\"Evaluate data size : \" , np.shape(x_val)[0])\n",
    "loss,acc = model.evaluate(x_val, y_val_class, verbose=2)\n",
    "print(\"Accuracy\", str(acc * 100) + \"%\")"
   ]
  },
  {
   "cell_type": "code",
   "execution_count": 13,
   "id": "a4a54fee",
   "metadata": {},
   "outputs": [],
   "source": [
    "from sklearn.metrics import confusion_matrix\n",
    "import seaborn as sns\n",
    "import matplotlib.pyplot as plt "
   ]
  },
  {
   "cell_type": "code",
   "execution_count": 14,
   "id": "d2de8369",
   "metadata": {},
   "outputs": [
    {
     "data": {
      "text/plain": [
       "Text(0.5, 51.0, 'Predicted emotion')"
      ]
     },
     "execution_count": 14,
     "metadata": {},
     "output_type": "execute_result"
    },
    {
     "data": {
      "image/png": "[encoded data removed]",
      "text/plain": [
       "<Figure size 864x576 with 2 Axes>"
      ]
     },
     "metadata": {
      "needs_background": "light"
     },
     "output_type": "display_data"
    }
   ],
   "source": [
    "# Validation Confusion matrix\n",
    "import pandas as pd\n",
    "y_val_class = np.argmax(y_val_class, axis=1)\n",
    "predictions = model.predict(x_val)\n",
    "y_pred_class = np.argmax(predictions, axis=1)\n",
    "\n",
    "cm=confusion_matrix(y_val_class, y_pred_class)\n",
    "\n",
    "index = ['neutral', 'calm', 'happy', 'sad', 'angry', 'fearful', 'disgust', 'surprised']  \n",
    "columns = ['neutral', 'calm', 'happy', 'sad', 'angry', 'fearful', 'disgust', 'surprised']  \n",
    " \n",
    "cm_df = pd.DataFrame(cm,index,columns)                      \n",
    "plt.figure(figsize=(12,8))\n",
    "ax = plt.axes()\n",
    "\n",
    "sns.heatmap(cm_df, ax = ax, cmap = 'PuBu', fmt=\"d\", annot=True)\n",
    "ax.set_ylabel('True emotion')\n",
    "ax.set_xlabel('Predicted emotion')"
   ]
  },
  {
   "cell_type": "code",
   "execution_count": 15,
   "id": "9f9fb137",
   "metadata": {},
   "outputs": [
    {
     "name": "stdout",
     "output_type": "stream",
     "text": [
      "Validation set predicted emotions accuracy:\n",
      "neutral : 0.9194\n",
      "calm : 0.6176\n",
      "happy : 0.8602\n",
      "sad : 0.8660\n",
      "angry : 0.9286\n",
      "fearful : 0.7917\n",
      "disgust : 0.9537\n",
      "surprised : 0.9425\n"
     ]
    }
   ],
   "source": [
    "values = cm.diagonal()\n",
    "row_sum = np.sum(cm,axis=1)\n",
    "acc = values / row_sum\n",
    "\n",
    "print('Validation set predicted emotions accuracy:')\n",
    "for e in range(0, len(values)):\n",
    "    print(index[e],':', f\"{(acc[e]):0.4f}\")"
   ]
  },
  {
   "cell_type": "code",
   "execution_count": 16,
   "id": "2e0bd8ba",
   "metadata": {},
   "outputs": [
    {
     "name": "stdout",
     "output_type": "stream",
     "text": [
      "[ 7.2802734e-01  1.6090507e+03  4.7736322e+02 -1.7497470e+02\n",
      "  1.5447548e+02 -6.1631943e+01  3.1087467e+01  3.2378563e+01\n",
      " -1.9700764e+01  3.3835670e+01  3.2440200e+00  2.2913414e-01\n",
      "  2.0741089e+01 -4.8085346e+00  7.6207838e+00] 4\n"
     ]
    }
   ],
   "source": [
    "print(x_val[0][3],y_val_class[3])"
   ]
  },
  {
   "cell_type": "code",
   "execution_count": 17,
   "id": "1945d7a5",
   "metadata": {},
   "outputs": [],
   "source": [
    "predictions = model.predict(x_val, use_multiprocessing=True)"
   ]
  },
  {
   "cell_type": "code",
   "execution_count": 18,
   "id": "b208363f",
   "metadata": {},
   "outputs": [
    {
     "data": {
      "text/plain": [
       "(661, 8)"
      ]
     },
     "execution_count": 18,
     "metadata": {},
     "output_type": "execute_result"
    }
   ],
   "source": [
    "predictions.shape"
   ]
  },
  {
   "cell_type": "code",
   "execution_count": 19,
   "id": "93417a54",
   "metadata": {},
   "outputs": [
    {
     "data": {
      "text/plain": [
       "(661, 400, 15)"
      ]
     },
     "execution_count": 19,
     "metadata": {},
     "output_type": "execute_result"
    }
   ],
   "source": [
    "x_val.shape"
   ]
  },
  {
   "cell_type": "code",
   "execution_count": 20,
   "id": "aa212c21",
   "metadata": {},
   "outputs": [
    {
     "data": {
      "text/plain": [
       "4"
      ]
     },
     "execution_count": 20,
     "metadata": {},
     "output_type": "execute_result"
    }
   ],
   "source": [
    "np.argmax(predictions[3])"
   ]
  },
  {
   "cell_type": "code",
   "execution_count": 21,
   "id": "c7808933",
   "metadata": {},
   "outputs": [],
   "source": [
    "emotions = {\n",
    "    0 : 'neutral',\n",
    "    1 : 'calm',\n",
    "    2 : 'happy',\n",
    "    3 : 'sad', #SAD\n",
    "    4 : 'angry',\n",
    "    5 : 'fearful',\n",
    "    6 : 'disgust',\n",
    "    7 : 'suprised'   \n",
    "}\n",
    "emo_list = list(emotions.values())"
   ]
  },
  {
   "cell_type": "code",
   "execution_count": 22,
   "id": "28871a82",
   "metadata": {},
   "outputs": [],
   "source": [
    "def preprocess(file_path, subdir):\n",
    "    rms_t = []\n",
    "    zcr_t = []\n",
    "    mfcc_t = []\n",
    "    \n",
    "    _, sr = librosa.load(path = os.path.join(subdir,file_path), sr = None) # sr (the sample rate) is used for librosa's MFCCs. '_' is irrelevant.\n",
    "    # Load the audio file.\n",
    "    rawsound = AudioSegment.from_file( os.path.join(subdir,file_path)) \n",
    "    # Normalize the audio to +5.0 dBFS.\n",
    "    normalizedsound = effects.normalize(rawsound, headroom = 5.0) \n",
    "    # Transform the normalized audio to np.array of samples.\n",
    "    normal_x = np.array(normalizedsound.get_array_of_samples(), dtype = 'float32')\n",
    "    # Trim silence from the beginning and the end.\n",
    "    xt, index = librosa.effects.trim(normal_x, top_db=30)\n",
    "      #print(file,\"\\t\", len(xt), \"\\t\", rawsound.dBFS, \"\\t\", normalizedsound.dBFS) #--QA purposes if needed-- \n",
    "    # Pad for duration equalization.\n",
    "    padded_x = np.pad(xt, (0, total_length-len(xt)), 'constant')\n",
    "    # Noise reduction.\n",
    "    final_x = nr.reduce_noise(y=padded_x,\n",
    "                          sr=sr)\n",
    " \n",
    "   # Features extraction \n",
    "    f1 = librosa.feature.rms(y=final_x, frame_length=frame_length, hop_length=hop_length) # Energy - Root Mean Square   \n",
    "    f2 = librosa.feature.zero_crossing_rate(y=final_x , frame_length=frame_length, hop_length=hop_length, center=True) # ZCR      \n",
    "    f3 = librosa.feature.mfcc(y=final_x, sr=sr, n_mfcc=13, hop_length = hop_length) # MFCC\n",
    "      \n",
    "   # Emotion extraction from the different databases\n",
    "    if (find_emotion_T(file_path) != \"-1\"): #TESS database validation\n",
    "        name = find_emotion_T(file_path)\n",
    "    else:                              #RAVDESS database validation\n",
    "        name = file_path[6:8]  \n",
    "\n",
    "   # Filling the data lists  \n",
    "    rms_t.append(f1)\n",
    "    zcr_t.append(f2)\n",
    "    mfcc_t.append(f3)\n",
    "    \n",
    "    f_rms_t = np.asarray(rms_t).astype('float32')\n",
    "    f_rms_t = np.swapaxes(f_rms_t,1,2)\n",
    "    f_zcr_t = np.asarray(zcr_t).astype('float32')\n",
    "    f_zcr_t = np.swapaxes(f_zcr_t,1,2)\n",
    "    f_mfccs_t = np.asarray(mfcc_t).astype('float32')\n",
    "    f_mfccs_t = np.swapaxes(f_mfccs_t,1,2)\n",
    "\n",
    "    #print(file, emotionfix(name))\n",
    "\n",
    "\n",
    "    X = np.concatenate((f_zcr_t, f_rms_t, f_mfccs_t), axis=2)\n",
    "\n",
    "    predictions = model.predict(X, use_multiprocessing=True)\n",
    "\n",
    "    y_pred_class = np.argmax(predictions)\n",
    "    print(\"file : \" + str(file_path), \",Real emotion : \" + str(emotionfix(name)) + \" \" + emotions.get(emotionfix(name),-1), \",predictions : \" + str(y_pred_class)+ \" \" +emotions.get(y_pred_class,-1))\n",
    "    return y_pred_class\n",
    "    "
   ]
  },
  {
   "cell_type": "code",
   "execution_count": 23,
   "id": "bd94386e",
   "metadata": {},
   "outputs": [
    {
     "name": "stdout",
     "output_type": "stream",
     "text": [
      "file : 03-01-01-01-01-01-02.wav ,Real emotion : 0 neutral ,predictions : 0 neutral\n"
     ]
    }
   ],
   "source": [
    "a = preprocess('03-01-01-01-01-01-02.wav','./dataset/Actor_02')"
   ]
  },
  {
   "cell_type": "code",
   "execution_count": 24,
   "id": "dc680202",
   "metadata": {},
   "outputs": [
    {
     "data": {
      "text/plain": [
       "0"
      ]
     },
     "execution_count": 24,
     "metadata": {},
     "output_type": "execute_result"
    }
   ],
   "source": [
    "a"
   ]
  },
  {
   "cell_type": "code",
   "execution_count": null,
   "id": "02b29be0",
   "metadata": {},
   "outputs": [
    {
     "name": "stdout",
     "output_type": "stream",
     "text": [
      "file : 03-01-01-01-01-01-01.wav ,Real emotion : 0 neutral ,predictions : 0 neutral\n",
      "file : 03-01-01-01-01-02-01.wav ,Real emotion : 0 neutral ,predictions : 0 neutral\n",
      "file : 03-01-01-01-02-01-01.wav ,Real emotion : 0 neutral ,predictions : 0 neutral\n",
      "file : 03-01-01-01-02-02-01.wav ,Real emotion : 0 neutral ,predictions : 0 neutral\n",
      "file : 03-01-02-01-01-01-01.wav ,Real emotion : 1 calm ,predictions : 3 sad\n",
      "file : 03-01-02-01-01-02-01.wav ,Real emotion : 1 calm ,predictions : 6 disgust\n",
      "file : 03-01-02-01-02-01-01.wav ,Real emotion : 1 calm ,predictions : 0 neutral\n",
      "file : 03-01-02-01-02-02-01.wav ,Real emotion : 1 calm ,predictions : 0 neutral\n",
      "file : 03-01-02-02-01-01-01.wav ,Real emotion : 1 calm ,predictions : 1 calm\n",
      "file : 03-01-02-02-01-02-01.wav ,Real emotion : 1 calm ,predictions : 1 calm\n",
      "file : 03-01-02-02-02-01-01.wav ,Real emotion : 1 calm ,predictions : 1 calm\n",
      "file : 03-01-02-02-02-02-01.wav ,Real emotion : 1 calm ,predictions : 1 calm\n",
      "file : 03-01-03-01-01-01-01.wav ,Real emotion : 2 happy ,predictions : 0 neutral\n",
      "file : 03-01-03-01-01-02-01.wav ,Real emotion : 2 happy ,predictions : 2 happy\n",
      "file : 03-01-03-01-02-01-01.wav ,Real emotion : 2 happy ,predictions : 0 neutral\n",
      "file : 03-01-03-01-02-02-01.wav ,Real emotion : 2 happy ,predictions : 2 happy\n",
      "file : 03-01-03-02-01-01-01.wav ,Real emotion : 2 happy ,predictions : 2 happy\n",
      "file : 03-01-03-02-01-02-01.wav ,Real emotion : 2 happy ,predictions : 2 happy\n",
      "file : 03-01-03-02-02-01-01.wav ,Real emotion : 2 happy ,predictions : 2 happy\n",
      "file : 03-01-03-02-02-02-01.wav ,Real emotion : 2 happy ,predictions : 2 happy\n",
      "file : 03-01-04-01-01-01-01.wav ,Real emotion : 3 sad ,predictions : 1 calm\n",
      "file : 03-01-04-01-01-02-01.wav ,Real emotion : 3 sad ,predictions : 6 disgust\n",
      "file : 03-01-04-01-02-01-01.wav ,Real emotion : 3 sad ,predictions : 3 sad\n",
      "file : 03-01-04-01-02-02-01.wav ,Real emotion : 3 sad ,predictions : 3 sad\n",
      "file : 03-01-04-02-01-01-01.wav ,Real emotion : 3 sad ,predictions : 3 sad\n",
      "file : 03-01-04-02-01-02-01.wav ,Real emotion : 3 sad ,predictions : 2 happy\n",
      "file : 03-01-04-02-02-01-01.wav ,Real emotion : 3 sad ,predictions : 3 sad\n",
      "file : 03-01-04-02-02-02-01.wav ,Real emotion : 3 sad ,predictions : 3 sad\n",
      "file : 03-01-05-01-01-01-01.wav ,Real emotion : 4 angry ,predictions : 7 suprised\n",
      "file : 03-01-05-01-01-02-01.wav ,Real emotion : 4 angry ,predictions : 2 happy\n",
      "file : 03-01-05-01-02-01-01.wav ,Real emotion : 4 angry ,predictions : 4 angry\n",
      "file : 03-01-05-01-02-02-01.wav ,Real emotion : 4 angry ,predictions : 2 happy\n",
      "file : 03-01-05-02-01-01-01.wav ,Real emotion : 4 angry ,predictions : 4 angry\n",
      "file : 03-01-05-02-01-02-01.wav ,Real emotion : 4 angry ,predictions : 4 angry\n",
      "file : 03-01-05-02-02-01-01.wav ,Real emotion : 4 angry ,predictions : 4 angry\n",
      "file : 03-01-05-02-02-02-01.wav ,Real emotion : 4 angry ,predictions : 4 angry\n",
      "file : 03-01-06-01-01-01-01.wav ,Real emotion : 5 fearful ,predictions : 0 neutral\n",
      "file : 03-01-06-01-01-02-01.wav ,Real emotion : 5 fearful ,predictions : 2 happy\n",
      "file : 03-01-06-01-02-01-01.wav ,Real emotion : 5 fearful ,predictions : 1 calm\n",
      "file : 03-01-06-01-02-02-01.wav ,Real emotion : 5 fearful ,predictions : 2 happy\n",
      "file : 03-01-06-02-01-01-01.wav ,Real emotion : 5 fearful ,predictions : 5 fearful\n",
      "file : 03-01-06-02-01-02-01.wav ,Real emotion : 5 fearful ,predictions : 5 fearful\n",
      "file : 03-01-06-02-02-01-01.wav ,Real emotion : 5 fearful ,predictions : 5 fearful\n",
      "file : 03-01-06-02-02-02-01.wav ,Real emotion : 5 fearful ,predictions : 5 fearful\n",
      "file : 03-01-07-01-01-01-01.wav ,Real emotion : 6 disgust ,predictions : 6 disgust\n",
      "file : 03-01-07-01-01-02-01.wav ,Real emotion : 6 disgust ,predictions : 6 disgust\n",
      "file : 03-01-07-01-02-01-01.wav ,Real emotion : 6 disgust ,predictions : 6 disgust\n",
      "file : 03-01-07-01-02-02-01.wav ,Real emotion : 6 disgust ,predictions : 6 disgust\n",
      "file : 03-01-07-02-01-01-01.wav ,Real emotion : 6 disgust ,predictions : 6 disgust\n",
      "file : 03-01-07-02-01-02-01.wav ,Real emotion : 6 disgust ,predictions : 6 disgust\n",
      "file : 03-01-07-02-02-01-01.wav ,Real emotion : 6 disgust ,predictions : 6 disgust\n",
      "file : 03-01-07-02-02-02-01.wav ,Real emotion : 6 disgust ,predictions : 6 disgust\n",
      "file : 03-01-08-01-01-01-01.wav ,Real emotion : 7 suprised ,predictions : 7 suprised\n",
      "file : 03-01-08-01-01-02-01.wav ,Real emotion : 7 suprised ,predictions : 7 suprised\n",
      "file : 03-01-08-01-02-01-01.wav ,Real emotion : 7 suprised ,predictions : 7 suprised\n",
      "file : 03-01-08-01-02-02-01.wav ,Real emotion : 7 suprised ,predictions : 7 suprised\n",
      "file : 03-01-08-02-01-01-01.wav ,Real emotion : 7 suprised ,predictions : 7 suprised\n",
      "file : 03-01-08-02-01-02-01.wav ,Real emotion : 7 suprised ,predictions : 7 suprised\n",
      "file : 03-01-08-02-02-01-01.wav ,Real emotion : 7 suprised ,predictions : 5 fearful\n",
      "file : 03-01-08-02-02-02-01.wav ,Real emotion : 7 suprised ,predictions : 7 suprised\n",
      "file : 03-01-01-01-01-01-02.wav ,Real emotion : 0 neutral ,predictions : 0 neutral\n",
      "file : 03-01-01-01-01-02-02.wav ,Real emotion : 0 neutral ,predictions : 0 neutral\n",
      "file : 03-01-01-01-02-01-02.wav ,Real emotion : 0 neutral ,predictions : 0 neutral\n",
      "file : 03-01-01-01-02-02-02.wav ,Real emotion : 0 neutral ,predictions : 0 neutral\n",
      "file : 03-01-02-01-01-01-02.wav ,Real emotion : 1 calm ,predictions : 1 calm\n",
      "file : 03-01-02-01-01-02-02.wav ,Real emotion : 1 calm ,predictions : 1 calm\n",
      "file : 03-01-02-01-02-01-02.wav ,Real emotion : 1 calm ,predictions : 1 calm\n",
      "file : 03-01-02-01-02-02-02.wav ,Real emotion : 1 calm ,predictions : 1 calm\n",
      "file : 03-01-02-02-01-01-02.wav ,Real emotion : 1 calm ,predictions : 1 calm\n",
      "file : 03-01-02-02-01-02-02.wav ,Real emotion : 1 calm ,predictions : 1 calm\n",
      "file : 03-01-02-02-02-01-02.wav ,Real emotion : 1 calm ,predictions : 1 calm\n",
      "file : 03-01-02-02-02-02-02.wav ,Real emotion : 1 calm ,predictions : 1 calm\n",
      "file : 03-01-03-01-01-01-02.wav ,Real emotion : 2 happy ,predictions : 0 neutral\n",
      "file : 03-01-03-01-01-02-02.wav ,Real emotion : 2 happy ,predictions : 2 happy\n",
      "file : 03-01-03-01-02-01-02.wav ,Real emotion : 2 happy ,predictions : 0 neutral\n",
      "file : 03-01-03-01-02-02-02.wav ,Real emotion : 2 happy ,predictions : 0 neutral\n",
      "file : 03-01-03-02-01-01-02.wav ,Real emotion : 2 happy ,predictions : 2 happy\n",
      "file : 03-01-03-02-01-02-02.wav ,Real emotion : 2 happy ,predictions : 2 happy\n",
      "file : 03-01-03-02-02-01-02.wav ,Real emotion : 2 happy ,predictions : 2 happy\n",
      "file : 03-01-03-02-02-02-02.wav ,Real emotion : 2 happy ,predictions : 2 happy\n",
      "file : 03-01-04-01-01-01-02.wav ,Real emotion : 3 sad ,predictions : 3 sad\n",
      "file : 03-01-04-01-01-02-02.wav ,Real emotion : 3 sad ,predictions : 3 sad\n",
      "file : 03-01-04-01-02-01-02.wav ,Real emotion : 3 sad ,predictions : 3 sad\n",
      "file : 03-01-04-01-02-02-02.wav ,Real emotion : 3 sad ,predictions : 3 sad\n",
      "file : 03-01-04-02-01-01-02.wav ,Real emotion : 3 sad ,predictions : 3 sad\n",
      "file : 03-01-04-02-01-02-02.wav ,Real emotion : 3 sad ,predictions : 3 sad\n",
      "file : 03-01-04-02-02-01-02.wav ,Real emotion : 3 sad ,predictions : 3 sad\n",
      "file : 03-01-04-02-02-02-02.wav ,Real emotion : 3 sad ,predictions : 3 sad\n",
      "file : 03-01-05-01-01-01-02.wav ,Real emotion : 4 angry ,predictions : 4 angry\n",
      "file : 03-01-05-01-01-02-02.wav ,Real emotion : 4 angry ,predictions : 4 angry\n",
      "file : 03-01-05-01-02-01-02.wav ,Real emotion : 4 angry ,predictions : 6 disgust\n",
      "file : 03-01-05-01-02-02-02.wav ,Real emotion : 4 angry ,predictions : 4 angry\n",
      "file : 03-01-05-02-01-01-02.wav ,Real emotion : 4 angry ,predictions : 4 angry\n",
      "file : 03-01-05-02-01-02-02.wav ,Real emotion : 4 angry ,predictions : 4 angry\n",
      "file : 03-01-05-02-02-01-02.wav ,Real emotion : 4 angry ,predictions : 4 angry\n",
      "file : 03-01-05-02-02-02-02.wav ,Real emotion : 4 angry ,predictions : 4 angry\n",
      "file : 03-01-06-01-01-01-02.wav ,Real emotion : 5 fearful ,predictions : 5 fearful\n",
      "file : 03-01-06-01-01-02-02.wav ,Real emotion : 5 fearful ,predictions : 5 fearful\n",
      "file : 03-01-06-01-02-01-02.wav ,Real emotion : 5 fearful ,predictions : 5 fearful\n",
      "file : 03-01-06-01-02-02-02.wav ,Real emotion : 5 fearful ,predictions : 5 fearful\n",
      "file : 03-01-06-02-01-01-02.wav ,Real emotion : 5 fearful ,predictions : 5 fearful\n",
      "file : 03-01-06-02-01-02-02.wav ,Real emotion : 5 fearful ,predictions : 5 fearful\n",
      "file : 03-01-06-02-02-01-02.wav ,Real emotion : 5 fearful ,predictions : 2 happy\n",
      "file : 03-01-06-02-02-02-02.wav ,Real emotion : 5 fearful ,predictions : 5 fearful\n"
     ]
    },
    {
     "name": "stdout",
     "output_type": "stream",
     "text": [
      "file : 03-01-07-01-01-01-02.wav ,Real emotion : 6 disgust ,predictions : 6 disgust\n",
      "file : 03-01-07-01-01-02-02.wav ,Real emotion : 6 disgust ,predictions : 6 disgust\n",
      "file : 03-01-07-01-02-01-02.wav ,Real emotion : 6 disgust ,predictions : 6 disgust\n",
      "file : 03-01-07-01-02-02-02.wav ,Real emotion : 6 disgust ,predictions : 6 disgust\n",
      "file : 03-01-07-02-01-01-02.wav ,Real emotion : 6 disgust ,predictions : 6 disgust\n",
      "file : 03-01-07-02-01-02-02.wav ,Real emotion : 6 disgust ,predictions : 6 disgust\n",
      "file : 03-01-07-02-02-01-02.wav ,Real emotion : 6 disgust ,predictions : 6 disgust\n",
      "file : 03-01-07-02-02-02-02.wav ,Real emotion : 6 disgust ,predictions : 6 disgust\n",
      "file : 03-01-08-01-01-01-02.wav ,Real emotion : 7 suprised ,predictions : 7 suprised\n",
      "file : 03-01-08-01-01-02-02.wav ,Real emotion : 7 suprised ,predictions : 7 suprised\n",
      "file : 03-01-08-01-02-01-02.wav ,Real emotion : 7 suprised ,predictions : 7 suprised\n",
      "file : 03-01-08-01-02-02-02.wav ,Real emotion : 7 suprised ,predictions : 7 suprised\n",
      "file : 03-01-08-02-01-01-02.wav ,Real emotion : 7 suprised ,predictions : 7 suprised\n",
      "file : 03-01-08-02-01-02-02.wav ,Real emotion : 7 suprised ,predictions : 7 suprised\n",
      "file : 03-01-08-02-02-01-02.wav ,Real emotion : 7 suprised ,predictions : 7 suprised\n",
      "file : 03-01-08-02-02-02-02.wav ,Real emotion : 7 suprised ,predictions : 7 suprised\n",
      "file : 03-01-01-01-01-01-03.wav ,Real emotion : 0 neutral ,predictions : 0 neutral\n",
      "file : 03-01-01-01-01-02-03.wav ,Real emotion : 0 neutral ,predictions : 0 neutral\n",
      "file : 03-01-01-01-02-01-03.wav ,Real emotion : 0 neutral ,predictions : 0 neutral\n",
      "file : 03-01-01-01-02-02-03.wav ,Real emotion : 0 neutral ,predictions : 2 happy\n",
      "file : 03-01-02-01-01-01-03.wav ,Real emotion : 1 calm ,predictions : 1 calm\n",
      "file : 03-01-02-01-01-02-03.wav ,Real emotion : 1 calm ,predictions : 1 calm\n",
      "file : 03-01-02-01-02-01-03.wav ,Real emotion : 1 calm ,predictions : 6 disgust\n",
      "file : 03-01-02-01-02-02-03.wav ,Real emotion : 1 calm ,predictions : 1 calm\n",
      "file : 03-01-02-02-01-01-03.wav ,Real emotion : 1 calm ,predictions : 1 calm\n",
      "file : 03-01-02-02-01-02-03.wav ,Real emotion : 1 calm ,predictions : 1 calm\n",
      "file : 03-01-02-02-02-01-03.wav ,Real emotion : 1 calm ,predictions : 1 calm\n",
      "file : 03-01-02-02-02-02-03.wav ,Real emotion : 1 calm ,predictions : 1 calm\n",
      "file : 03-01-03-01-01-01-03.wav ,Real emotion : 2 happy ,predictions : 2 happy\n",
      "file : 03-01-03-01-01-02-03.wav ,Real emotion : 2 happy ,predictions : 2 happy\n",
      "file : 03-01-03-01-02-01-03.wav ,Real emotion : 2 happy ,predictions : 2 happy\n",
      "file : 03-01-03-01-02-02-03.wav ,Real emotion : 2 happy ,predictions : 2 happy\n",
      "file : 03-01-03-02-01-01-03.wav ,Real emotion : 2 happy ,predictions : 2 happy\n",
      "file : 03-01-03-02-01-02-03.wav ,Real emotion : 2 happy ,predictions : 2 happy\n",
      "file : 03-01-03-02-02-01-03.wav ,Real emotion : 2 happy ,predictions : 2 happy\n",
      "file : 03-01-03-02-02-02-03.wav ,Real emotion : 2 happy ,predictions : 2 happy\n",
      "file : 03-01-04-01-01-01-03.wav ,Real emotion : 3 sad ,predictions : 3 sad\n",
      "file : 03-01-04-01-01-02-03.wav ,Real emotion : 3 sad ,predictions : 3 sad\n",
      "file : 03-01-04-01-02-01-03.wav ,Real emotion : 3 sad ,predictions : 3 sad\n",
      "file : 03-01-04-01-02-02-03.wav ,Real emotion : 3 sad ,predictions : 3 sad\n",
      "file : 03-01-04-02-01-01-03.wav ,Real emotion : 3 sad ,predictions : 3 sad\n",
      "file : 03-01-04-02-01-02-03.wav ,Real emotion : 3 sad ,predictions : 3 sad\n",
      "file : 03-01-04-02-02-01-03.wav ,Real emotion : 3 sad ,predictions : 3 sad\n",
      "file : 03-01-04-02-02-02-03.wav ,Real emotion : 3 sad ,predictions : 3 sad\n",
      "file : 03-01-05-01-01-01-03.wav ,Real emotion : 4 angry ,predictions : 4 angry\n",
      "file : 03-01-05-01-01-02-03.wav ,Real emotion : 4 angry ,predictions : 4 angry\n",
      "file : 03-01-05-01-02-01-03.wav ,Real emotion : 4 angry ,predictions : 4 angry\n",
      "file : 03-01-05-01-02-02-03.wav ,Real emotion : 4 angry ,predictions : 4 angry\n",
      "file : 03-01-05-02-01-01-03.wav ,Real emotion : 4 angry ,predictions : 4 angry\n",
      "file : 03-01-05-02-01-02-03.wav ,Real emotion : 4 angry ,predictions : 4 angry\n",
      "file : 03-01-05-02-02-01-03.wav ,Real emotion : 4 angry ,predictions : 4 angry\n",
      "file : 03-01-05-02-02-02-03.wav ,Real emotion : 4 angry ,predictions : 4 angry\n"
     ]
    }
   ],
   "source": [
    "folder_path = './dataset' \n",
    "\n",
    "for subdir, dirs, files in os.walk(folder_path):\n",
    "  for file in files: \n",
    "    b = preprocess(file,subdir)"
   ]
  },
  {
   "cell_type": "code",
   "execution_count": 227,
   "id": "3844581c",
   "metadata": {},
   "outputs": [],
   "source": [
    "import pyaudio\n",
    "import wave\n",
    "from array import array\n",
    "import struct\n",
    "import time\n",
    "from datetime import datetime\n",
    "import shutil"
   ]
  },
  {
   "cell_type": "code",
   "execution_count": 465,
   "id": "c7d7cdea",
   "metadata": {},
   "outputs": [],
   "source": [
    "def voice_predictions():\n",
    "    \n",
    "    \n",
    "    RATE = 24414\n",
    "    CHUNK = 512\n",
    "    RECORD_SECONDS = 7\n",
    "    FORMAT = pyaudio.paInt32\n",
    "    CHANNELS = 1\n",
    "    WAVE_OUTPUT_FILE = \"./output_testing.wav\"\n",
    "    WAVE_OUTPUT_FILENAME_TESTING = \"./dataset/Actor_02/03-01-01-01-01-01-02.wav\"\n",
    "    \n",
    "    p = pyaudio.PyAudio()\n",
    "    stream = p.open(format=FORMAT,\n",
    "                channels=CHANNELS,\n",
    "                rate=RATE,\n",
    "                input=True,\n",
    "                frames_per_buffer=CHUNK)\n",
    "    \n",
    "    data = array('h', np.random.randint(size = 512, low = 0, high = 500))\n",
    "    \n",
    "    print(\"** Analysis started\")\n",
    "    total_predictions = [] # A list for all predictions in the session.\n",
    "    tic = time.perf_counter()\n",
    "    \n",
    "\n",
    "    print(\"* Analysis...\")\n",
    "    frames = [] \n",
    "    data = np.nan # Reset 'data' variable.\n",
    "\n",
    "    timesteps = int(RATE / CHUNK * RECORD_SECONDS) # => 339\n",
    "\n",
    "    # Insert frames to 'output.wav'.\n",
    "    for i in range(0, timesteps):\n",
    "        data = array('l', stream.read(CHUNK)) \n",
    "        frames.append(data)\n",
    "\n",
    "        wf = wave.open(WAVE_OUTPUT_FILE, 'wb')\n",
    "        wf.setnchannels(CHANNELS)\n",
    "        wf.setsampwidth(p.get_sample_size(FORMAT))\n",
    "        wf.setframerate(RATE)\n",
    "        wf.writeframes(b''.join(frames))\n",
    "\n",
    "    print(\"* done Analysis\")\n",
    "\n",
    "    rms_t = []\n",
    "    zcr_t = []\n",
    "    mfcc_t = []\n",
    "    \n",
    "    _, sr = librosa.load(path = WAVE_OUTPUT_FILENAME_TESTING, sr = None) # sr (the sample rate) is used for librosa's MFCCs. '_' is irrelevant.\n",
    "    # Load the audio file.\n",
    "    rawsound = AudioSegment.from_file(WAVE_OUTPUT_FILENAME_TESTING) \n",
    "    # Normalize the audio to +5.0 dBFS.\n",
    "    normalizedsound = effects.normalize(rawsound, headroom = 0) \n",
    "    # Transform the normalized audio to np.array of samples.\n",
    "    normal_x = np.array(normalizedsound.get_array_of_samples(), dtype = 'float32')\n",
    "    # Trim silence from the beginning and the end.\n",
    "    xt, index = librosa.effects.trim(normal_x, top_db=30)\n",
    "      #print(file,\"\\t\", len(xt), \"\\t\", rawsound.dBFS, \"\\t\", normalizedsound.dBFS) #--QA purposes if needed-- \n",
    "    # Pad for duration equalization.\n",
    "    padded_x = np.pad(xt, (0, 204288-len(xt)), 'constant')\n",
    "    # Noise reduction.\n",
    "    final_x = nr.reduce_noise(y=padded_x,\n",
    "                          sr=sr)\n",
    " \n",
    "    # Features extraction \n",
    "    f1 = librosa.feature.rms(y=final_x, frame_length=frame_length, hop_length=hop_length) # Energy - Root Mean Square   \n",
    "    f2 = librosa.feature.zero_crossing_rate(y=final_x , frame_length=frame_length, hop_length=hop_length, center=True) # ZCR      \n",
    "    f3 = librosa.feature.mfcc(y=final_x, sr=sr, n_mfcc=13, hop_length = hop_length) # MFCC\n",
    "      \n",
    "    # Filling the data lists  \n",
    "    rms_t.append(f1)\n",
    "    zcr_t.append(f2)\n",
    "    mfcc_t.append(f3)\n",
    "    \n",
    "    f_rms_t = np.asarray(rms_t).astype('float32')\n",
    "    f_rms_t = np.swapaxes(f_rms_t,1,2)\n",
    "    f_zcr_t = np.asarray(zcr_t).astype('float32')\n",
    "    f_zcr_t = np.swapaxes(f_zcr_t,1,2)\n",
    "    f_mfccs_t = np.asarray(mfcc_t).astype('float32')\n",
    "    f_mfccs_t = np.swapaxes(f_mfccs_t,1,2)\n",
    "\n",
    "    #print(file, emotionfix(name))\n",
    "\n",
    "\n",
    "    X = np.concatenate((f_zcr_t, f_rms_t, f_mfccs_t), axis=2)\n",
    "\n",
    "    predictions = model.predict(X, use_multiprocessing=True)\n",
    "\n",
    "    y_pred_class = np.argmax(predictions)\n",
    "    print(\"predictions : \" + str(y_pred_class)+ \" \" +emotions.get(y_pred_class))\n",
    "    \n",
    "    \n",
    "    pred_list = list(predictions)\n",
    "    pred_np = np.squeeze(np.array(pred_list).tolist(), axis=0) # Get rid of 'array' & 'dtype' statments.\n",
    "    total_predictions.append(pred_np)\n",
    "    print(pred_list)\n",
    "    fig = plt.figure(figsize = (10, 2))\n",
    "    plt.bar(emo_list, pred_np, color = 'darkturquoise')\n",
    "    plt.ylabel(\"Probabilty (%)\")\n",
    "    plt.show()\n",
    "    \n",
    "    \n",
    "    return predictions"
   ]
  },
  {
   "cell_type": "code",
   "execution_count": 469,
   "id": "481c5eac",
   "metadata": {},
   "outputs": [
    {
     "name": "stdout",
     "output_type": "stream",
     "text": [
      "** Analysis started\n",
      "* Analysis...\n",
      "* done Analysis\n",
      "predictions : 5 fearful\n",
      "[array([1.4089856e-04, 6.7997134e-05, 4.2773664e-04, 4.5822249e-03,\n",
      "       2.2678338e-02, 9.7156298e-01, 1.5453370e-04, 3.8535893e-04],\n",
      "      dtype=float32)]\n"
     ]
    },
    {
     "data": {
      "image/png": "[encoded data removed]",
      "text/plain": [
       "<Figure size 720x144 with 1 Axes>"
      ]
     },
     "metadata": {
      "needs_background": "light"
     },
     "output_type": "display_data"
    },
    {
     "data": {
      "text/plain": [
       "array([[1.4089856e-04, 6.7997134e-05, 4.2773664e-04, 4.5822249e-03,\n",
       "        2.2678338e-02, 9.7156298e-01, 1.5453370e-04, 3.8535893e-04]],\n",
       "      dtype=float32)"
      ]
     },
     "execution_count": 469,
     "metadata": {},
     "output_type": "execute_result"
    }
   ],
   "source": [
    "ABC = voice_predictions()\n",
    "ABC"
   ]
  },
  {
   "cell_type": "code",
   "execution_count": null,
   "id": "1b27e592",
   "metadata": {},
   "outputs": [],
   "source": []
  },
  {
   "cell_type": "code",
   "execution_count": null,
   "id": "836a530a",
   "metadata": {},
   "outputs": [],
   "source": []
  }
 ],
 "metadata": {
  "kernelspec": {
   "display_name": "Python 3 (ipykernel)",
   "language": "python",
   "name": "python3"
  },
  "language_info": {
   "codemirror_mode": {
    "name": "ipython",
    "version": 3
   },
   "file_extension": ".py",
   "mimetype": "text/x-python",
   "name": "python",
   "nbconvert_exporter": "python",
   "pygments_lexer": "ipython3",
   "version": "3.7.10"
  }
 },
 "nbformat": 4,
 "nbformat_minor": 5
}
